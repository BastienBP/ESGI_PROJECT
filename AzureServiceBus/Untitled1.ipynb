{
 "cells": [
  {
   "cell_type": "code",
   "execution_count": null,
   "metadata": {
    "collapsed": false
   },
   "outputs": [
    {
     "name": "stdout",
     "output_type": "stream",
     "text": [
      "My message3\n",
      "My message3\n",
      "None\n",
      "None\n"
     ]
    }
   ],
   "source": [
    "from azure.servicebus import ServiceBusService, Message, Topic, Rule, DEFAULT_RULE_NAME\n",
    "import ConfigParser\n",
    "\n",
    "cfg = ConfigParser.ConfigParser()\n",
    "cfg.read(\"azureServiceBus.cfg\")\n",
    "azureTopic = cfg.get(\"ConfigServiceBus\",\"topic\")\n",
    "azureSubscription = cfg.get(\"ConfigServiceBus\",\"subscription\")\n",
    "azureNamespace = cfg.get(\"ConfigServiceBus\",\"namespace\")\n",
    "azureAccountName = cfg.get(\"ConfigServiceBus\",\"shared_access_key_name\")\n",
    "azureAccountKey = cfg.get(\"ConfigServiceBus\",\"shared_access_key\")\n",
    "\n",
    "bus_service = ServiceBusService(\n",
    "    service_namespace=azureNamespace,\n",
    "    shared_access_key_name=azureAccountName,\n",
    "    shared_access_key_value=azureAccountKey)\n",
    "while True:\n",
    "    msg = bus_service.receive_subscription_message(azureTopic, azureSubscription, peek_lock=False)\n",
    "    print(msg.body)"
   ]
  },
  {
   "cell_type": "code",
   "execution_count": null,
   "metadata": {
    "collapsed": true
   },
   "outputs": [],
   "source": []
  }
 ],
 "metadata": {
  "kernelspec": {
   "display_name": "Python [Root]",
   "language": "python",
   "name": "Python [Root]"
  },
  "language_info": {
   "codemirror_mode": {
    "name": "ipython",
    "version": 2
   },
   "file_extension": ".py",
   "mimetype": "text/x-python",
   "name": "python",
   "nbconvert_exporter": "python",
   "pygments_lexer": "ipython2",
   "version": "2.7.12"
  }
 },
 "nbformat": 4,
 "nbformat_minor": 0
}
