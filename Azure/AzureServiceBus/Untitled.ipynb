{
 "cells": [
  {
   "cell_type": "code",
   "execution_count": 1,
   "metadata": {
    "collapsed": true
   },
   "outputs": [],
   "source": [
    "from azure.servicebus import ServiceBusService, Message, Topic, Rule, DEFAULT_RULE_NAME\n",
    "import ConfigParser\n",
    "\n",
    "cfg = ConfigParser.ConfigParser()\n",
    "cfg.read(\"azureServiceBus.cfg\")\n",
    "azureNamespace = cfg.get(\"ConfigServiceBus\",\"namespace\")\n",
    "azureAccountName = cfg.get(\"ConfigServiceBus\",\"shared_access_key_name\")\n",
    "azureAccountKey = cfg.get(\"ConfigServiceBus\",\"shared_access_key\")\n",
    "\n",
    "bus_service = ServiceBusService(\n",
    "    service_namespace=azureNamespace,\n",
    "    shared_access_key_name=azureAccountName,\n",
    "    shared_access_key_value=azureAccountKey)\n",
    "\n",
    "#creating the topic\n",
    "bus_service.create_topic('pythontopic')\n",
    "\n",
    "#creating the subscription\n",
    "bus_service.create_subscription('pythontopic', 'messages')\n",
    "\n",
    "#sending message:\n",
    "msg = Message('My message'.encode('utf-8'))\n",
    "bus_service.send_topic_message('pythontopic', msg)\n"
   ]
  },
  {
   "cell_type": "code",
   "execution_count": 2,
   "metadata": {
    "collapsed": true
   },
   "outputs": [],
   "source": [
    "! pip freeze > ../requirements.txt"
   ]
  },
  {
   "cell_type": "code",
   "execution_count": null,
   "metadata": {
    "collapsed": true
   },
   "outputs": [],
   "source": []
  }
 ],
 "metadata": {
  "anaconda-cloud": {},
  "kernelspec": {
   "display_name": "Python [Root]",
   "language": "python",
   "name": "Python [Root]"
  },
  "language_info": {
   "codemirror_mode": {
    "name": "ipython",
    "version": 2
   },
   "file_extension": ".py",
   "mimetype": "text/x-python",
   "name": "python",
   "nbconvert_exporter": "python",
   "pygments_lexer": "ipython2",
   "version": "2.7.12"
  }
 },
 "nbformat": 4,
 "nbformat_minor": 0
}
